{
 "cells": [
  {
   "cell_type": "code",
   "execution_count": 1,
   "metadata": {},
   "outputs": [],
   "source": [
    "import json\n",
    "from IPython.display import HTML, display\n",
    "import re\n",
    "import pandas as pd\n",
    "import pickle\n",
    "from pathlib import Path\n",
    "import json\n",
    "from datetime import date\n",
    "\n",
    "### !pip install lxml"
   ]
  },
  {
   "cell_type": "code",
   "execution_count": 12,
   "metadata": {},
   "outputs": [],
   "source": [
    "fname = 'examples/SiameseImage_working.ipynb'\n",
    "nb_name = 'nb_save'\n",
    "nb_path = Path(nb_name+'.ipynb')"
   ]
  },
  {
   "cell_type": "code",
   "execution_count": 3,
   "metadata": {},
   "outputs": [
    {
     "name": "stdout",
     "output_type": "stream",
     "text": [
      "dict_keys(['cells', 'metadata', 'nbformat', 'nbformat_minor'])\n"
     ]
    }
   ],
   "source": [
    "main_dic = json.load(open(fname,'r',encoding=\"utf-8\"))\n",
    "print(main_dic.keys())"
   ]
  },
  {
   "cell_type": "code",
   "execution_count": 4,
   "metadata": {
    "scrolled": true
   },
   "outputs": [],
   "source": [
    "cells = main_dic['cells']"
   ]
  },
  {
   "cell_type": "code",
   "execution_count": 5,
   "metadata": {},
   "outputs": [],
   "source": [
    "def get_cell_from_exCount(cells, count):\n",
    "    for cell in cells:\n",
    "        if cell['cell_type'] == 'code' and cell['execution_count'] == count:\n",
    "            return cell\n",
    "    raise(ValueError('Count is higher than number of cells'))"
   ]
  },
  {
   "cell_type": "code",
   "execution_count": 7,
   "metadata": {},
   "outputs": [],
   "source": [
    "def get_cell_from_identifier(cells, id):\n",
    "    # First line of the source code/text starts with identifier\n",
    "    for cell in cells:\n",
    "        src = cell['source']\n",
    "        #print(src)\n",
    "        if src[0].startswith('#ID:'+id):\n",
    "            return cell\n",
    "        \n",
    "    raise(ValueError(f'No cell cointaining the identifier: {id}'))"
   ]
  },
  {
   "cell_type": "code",
   "execution_count": 8,
   "metadata": {},
   "outputs": [],
   "source": [
    "def get_output(cell):\n",
    "    \n",
    "    if 'outputs' in cell.keys():\n",
    "        for output in cell['outputs']:\n",
    "            if 'text/html' in output['data'].keys():\n",
    "                return ' '.join([line.strip() for line in output['data']['text/html']])\n",
    "            \n",
    "            raise(ValueError('Cell does not contain text/html output'))\n",
    "            \n",
    "    raise(ValueError('Cell does not contain any output'))"
   ]
  },
  {
   "cell_type": "code",
   "execution_count": 9,
   "metadata": {},
   "outputs": [
    {
     "data": {
      "text/html": [
       "<div>\n",
       "<style scoped>\n",
       "    .dataframe tbody tr th:only-of-type {\n",
       "        vertical-align: middle;\n",
       "    }\n",
       "\n",
       "    .dataframe tbody tr th {\n",
       "        vertical-align: top;\n",
       "    }\n",
       "\n",
       "    .dataframe thead th {\n",
       "        text-align: right;\n",
       "    }\n",
       "</style>\n",
       "<table border=\"1\" class=\"dataframe\">\n",
       "  <thead>\n",
       "    <tr style=\"text-align: right;\">\n",
       "      <th></th>\n",
       "      <th>0</th>\n",
       "      <th>1</th>\n",
       "      <th>2</th>\n",
       "      <th>3</th>\n",
       "      <th>4</th>\n",
       "    </tr>\n",
       "  </thead>\n",
       "  <tbody>\n",
       "    <tr>\n",
       "      <th>0</th>\n",
       "      <td>0</td>\n",
       "      <td>0.495539</td>\n",
       "      <td>0.534035</td>\n",
       "      <td>0.724315</td>\n",
       "      <td>00:10</td>\n",
       "    </tr>\n",
       "    <tr>\n",
       "      <th>1</th>\n",
       "      <td>1</td>\n",
       "      <td>0.497976</td>\n",
       "      <td>0.533547</td>\n",
       "      <td>0.719178</td>\n",
       "      <td>00:10</td>\n",
       "    </tr>\n",
       "    <tr>\n",
       "      <th>2</th>\n",
       "      <td>2</td>\n",
       "      <td>0.489686</td>\n",
       "      <td>0.534120</td>\n",
       "      <td>0.722603</td>\n",
       "      <td>00:10</td>\n",
       "    </tr>\n",
       "    <tr>\n",
       "      <th>3</th>\n",
       "      <td>3</td>\n",
       "      <td>0.497192</td>\n",
       "      <td>0.534630</td>\n",
       "      <td>0.726027</td>\n",
       "      <td>00:10</td>\n",
       "    </tr>\n",
       "    <tr>\n",
       "      <th>4</th>\n",
       "      <td>4</td>\n",
       "      <td>0.496531</td>\n",
       "      <td>0.531191</td>\n",
       "      <td>0.729452</td>\n",
       "      <td>00:10</td>\n",
       "    </tr>\n",
       "  </tbody>\n",
       "</table>\n",
       "</div>"
      ],
      "text/plain": [
       "   0         1         2         3      4\n",
       "0  0  0.495539  0.534035  0.724315  00:10\n",
       "1  1  0.497976  0.533547  0.719178  00:10\n",
       "2  2  0.489686  0.534120  0.722603  00:10\n",
       "3  3  0.497192  0.534630  0.726027  00:10\n",
       "4  4  0.496531  0.531191  0.729452  00:10"
      ]
     },
     "execution_count": 9,
     "metadata": {},
     "output_type": "execute_result"
    }
   ],
   "source": [
    "#ID:experiment1\n",
    "df_in = pd.read_csv('save/test.csv', header=None)\n",
    "df_in.head()"
   ]
  },
  {
   "cell_type": "code",
   "execution_count": 14,
   "metadata": {},
   "outputs": [],
   "source": [
    "cells = json.load(open(nb_path,'r',encoding='utf-8'))['cells']\n",
    "cell = get_cell_from_identifier(cells, id=\"experiment1\")"
   ]
  },
  {
   "cell_type": "code",
   "execution_count": 16,
   "metadata": {},
   "outputs": [],
   "source": [
    "def add_to_collection(id, content, description, parameters, contet_type):\n",
    "    \n",
    "    filename = Path('./save/collection.pkl')\n",
    "    \n",
    "    if filename.exists():\n",
    "        with open(filename, 'rb') as f:\n",
    "            l = pickle.load(f)\n",
    "    else:\n",
    "        l = []\n",
    "    \n",
    "    d = dict(\n",
    "        id = id,\n",
    "        content = content,\n",
    "        description = description,\n",
    "        parameters = parameters,\n",
    "        date = date.today().strftime(\"%d/%m/%Y\")\n",
    "    )\n",
    "    \n",
    "    #print(d)\n",
    "    \n",
    "    l += [d]\n",
    "    \n",
    "    #print(l)\n",
    "    \n",
    "    with open(filename, 'wb') as f:\n",
    "        pickle.dump(l, f, )"
   ]
  },
  {
   "cell_type": "code",
   "execution_count": 18,
   "metadata": {},
   "outputs": [],
   "source": [
    "content = get_output(cell)\n",
    "add_to_collection(\n",
    "    'experiment1',\n",
    "    content,\n",
    "    'result of experiment1',\n",
    "    'arch: bla, model: bub, freeze: false,...',\n",
    "    'table'\n",
    ")"
   ]
  },
  {
   "cell_type": "code",
   "execution_count": 19,
   "metadata": {},
   "outputs": [],
   "source": [
    "def show_collection():\n",
    "    filename = Path('./save/collection.pkl')\n",
    "    \n",
    "    with open(filename, 'rb') as f:\n",
    "        collection = pickle.load(f)\n",
    "        \n",
    "    for x in collection:\n",
    "        print(f\"{x['date']}: {x['description']}\")\n",
    "        print(x['parameters'])\n",
    "        display(HTML(x['content']))"
   ]
  },
  {
   "cell_type": "code",
   "execution_count": 20,
   "metadata": {},
   "outputs": [
    {
     "name": "stdout",
     "output_type": "stream",
     "text": [
      "10/05/2021: this is where this comes from\n",
      "{'arch': 'resnet34', 'epochs': 7, 'stage': 'frozen'}\n"
     ]
    },
    {
     "data": {
      "text/html": [
       "<table border=\"1\" class=\"dataframe\"> <thead> <tr style=\"text-align: left;\"> <th>epoch</th> <th>train_loss</th> <th>valid_loss</th> <th>accuracy</th> <th>time</th> </tr> </thead> <tbody> <tr> <td>0</td> <td>0.495539</td> <td>0.534035</td> <td>0.724315</td> <td>00:10</td> </tr> <tr> <td>1</td> <td>0.497976</td> <td>0.533547</td> <td>0.719178</td> <td>00:10</td> </tr> <tr> <td>2</td> <td>0.489686</td> <td>0.534120</td> <td>0.722603</td> <td>00:10</td> </tr> <tr> <td>3</td> <td>0.497192</td> <td>0.534630</td> <td>0.726027</td> <td>00:10</td> </tr> <tr> <td>4</td> <td>0.496531</td> <td>0.531191</td> <td>0.729452</td> <td>00:10</td> </tr> </tbody> </table>"
      ],
      "text/plain": [
       "<IPython.core.display.HTML object>"
      ]
     },
     "metadata": {},
     "output_type": "display_data"
    },
    {
     "name": "stdout",
     "output_type": "stream",
     "text": [
      "10/05/2021: this is where this comes from\n",
      "{'arch': 'resnet34', 'epochs': 7, 'stage': 'frozen'}\n"
     ]
    },
    {
     "data": {
      "text/html": [
       "<table border=\"1\" class=\"dataframe\"> <thead> <tr style=\"text-align: left;\"> <th>epoch</th> <th>train_loss</th> <th>valid_loss</th> <th>accuracy</th> <th>time</th> </tr> </thead> <tbody> <tr> <td>0</td> <td>0.495539</td> <td>0.534035</td> <td>0.724315</td> <td>00:10</td> </tr> <tr> <td>1</td> <td>0.497976</td> <td>0.533547</td> <td>0.719178</td> <td>00:10</td> </tr> <tr> <td>2</td> <td>0.489686</td> <td>0.534120</td> <td>0.722603</td> <td>00:10</td> </tr> <tr> <td>3</td> <td>0.497192</td> <td>0.534630</td> <td>0.726027</td> <td>00:10</td> </tr> <tr> <td>4</td> <td>0.496531</td> <td>0.531191</td> <td>0.729452</td> <td>00:10</td> </tr> </tbody> </table>"
      ],
      "text/plain": [
       "<IPython.core.display.HTML object>"
      ]
     },
     "metadata": {},
     "output_type": "display_data"
    },
    {
     "name": "stdout",
     "output_type": "stream",
     "text": [
      "10/05/2021: this is where this comes from\n",
      "{'arch': 'resnet34', 'epochs': 7, 'stage': 'frozen'}\n"
     ]
    },
    {
     "data": {
      "text/html": [
       "<table border=\"1\" class=\"dataframe\"> <thead> <tr style=\"text-align: left;\"> <th>epoch</th> <th>train_loss</th> <th>valid_loss</th> <th>accuracy</th> <th>time</th> </tr> </thead> <tbody> <tr> <td>0</td> <td>0.495539</td> <td>0.534035</td> <td>0.724315</td> <td>00:10</td> </tr> <tr> <td>1</td> <td>0.497976</td> <td>0.533547</td> <td>0.719178</td> <td>00:10</td> </tr> <tr> <td>2</td> <td>0.489686</td> <td>0.534120</td> <td>0.722603</td> <td>00:10</td> </tr> <tr> <td>3</td> <td>0.497192</td> <td>0.534630</td> <td>0.726027</td> <td>00:10</td> </tr> <tr> <td>4</td> <td>0.496531</td> <td>0.531191</td> <td>0.729452</td> <td>00:10</td> </tr> </tbody> </table>"
      ],
      "text/plain": [
       "<IPython.core.display.HTML object>"
      ]
     },
     "metadata": {},
     "output_type": "display_data"
    },
    {
     "name": "stdout",
     "output_type": "stream",
     "text": [
      "11/05/2021: result of experiment1\n",
      "arch: bla, model: bub, freeze: false,...\n"
     ]
    },
    {
     "data": {
      "text/html": [
       "<div> <style scoped> .dataframe tbody tr th:only-of-type { vertical-align: middle; }  .dataframe tbody tr th { vertical-align: top; }  .dataframe thead th { text-align: right; } </style> <table border=\"1\" class=\"dataframe\"> <thead> <tr style=\"text-align: right;\"> <th></th> <th>0</th> <th>1</th> <th>2</th> <th>3</th> <th>4</th> </tr> </thead> <tbody> <tr> <th>0</th> <td>0</td> <td>0.495539</td> <td>0.534035</td> <td>0.724315</td> <td>00:10</td> </tr> <tr> <th>1</th> <td>1</td> <td>0.497976</td> <td>0.533547</td> <td>0.719178</td> <td>00:10</td> </tr> <tr> <th>2</th> <td>2</td> <td>0.489686</td> <td>0.534120</td> <td>0.722603</td> <td>00:10</td> </tr> <tr> <th>3</th> <td>3</td> <td>0.497192</td> <td>0.534630</td> <td>0.726027</td> <td>00:10</td> </tr> <tr> <th>4</th> <td>4</td> <td>0.496531</td> <td>0.531191</td> <td>0.729452</td> <td>00:10</td> </tr> </tbody> </table> </div>"
      ],
      "text/plain": [
       "<IPython.core.display.HTML object>"
      ]
     },
     "metadata": {},
     "output_type": "display_data"
    }
   ],
   "source": [
    "show_collection()"
   ]
  },
  {
   "cell_type": "code",
   "execution_count": 21,
   "metadata": {},
   "outputs": [],
   "source": [
    "def html_to_table(html):\n",
    "    \n",
    "    return pd.read_html(html)[0]"
   ]
  },
  {
   "cell_type": "code",
   "execution_count": 22,
   "metadata": {},
   "outputs": [],
   "source": [
    "def is_table(output):\n",
    "    return re.match(r'^<table.*</table>', output) is not None"
   ]
  },
  {
   "cell_type": "code",
   "execution_count": 23,
   "metadata": {},
   "outputs": [],
   "source": [
    "def save_table(output, filename, to='csv'):\n",
    "    from pathlib import Path\n",
    "    import pandas as pd\n",
    "    \n",
    "    assert(is_table(output)), 'Content is no html table'\n",
    "    \n",
    "    path = Path('save')\n",
    "    path.mkdir(exist_ok=True)\n",
    "    \n",
    "    if to == 'csv':\n",
    "        filename += '.csv'\n",
    "        pd.read_html(output)[0].to_csv(path / filename, index = False, header = False)"
   ]
  },
  {
   "cell_type": "code",
   "execution_count": null,
   "metadata": {},
   "outputs": [],
   "source": []
  }
 ],
 "metadata": {
  "kernelspec": {
   "display_name": "Python 3",
   "language": "python",
   "name": "python3"
  },
  "language_info": {
   "codemirror_mode": {
    "name": "ipython",
    "version": 3
   },
   "file_extension": ".py",
   "mimetype": "text/x-python",
   "name": "python",
   "nbconvert_exporter": "python",
   "pygments_lexer": "ipython3",
   "version": "3.8.5"
  }
 },
 "nbformat": 4,
 "nbformat_minor": 4
}
